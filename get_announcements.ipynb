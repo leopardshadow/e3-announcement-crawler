{
 "cells": [
  {
   "cell_type": "code",
   "execution_count": 1,
   "metadata": {},
   "outputs": [],
   "source": [
    "# -*- coding: UTF-8 -*- \n",
    "\n",
    "from selenium import webdriver\n",
    "from selenium.webdriver.common.by import By\n",
    "from selenium.webdriver.common.keys import Keys\n",
    "from selenium.common.exceptions import *\n",
    "from selenium.webdriver import Chrome\n",
    "\n",
    "import time\n",
    "\n",
    "import csv\n",
    "import json\n"
   ]
  },
  {
   "cell_type": "code",
   "execution_count": 3,
   "metadata": {},
   "outputs": [],
   "source": [
    "driver = webdriver.Chrome('./chromedriver')\n",
    "driver.get('https://dcpc.nctu.edu.tw')\n"
   ]
  },
  {
   "cell_type": "code",
   "execution_count": 5,
   "metadata": {},
   "outputs": [],
   "source": [
    "# EDIT: student ID here or enter in the browser\n",
    "inputUser = driver.find_element_by_name(\"txtAccount\")\n",
    "inputUser.send_keys('XXXXXXX')\n"
   ]
  },
  {
   "cell_type": "code",
   "execution_count": 8,
   "metadata": {},
   "outputs": [],
   "source": [
    "#EDIT: password here or enter in the browser\n",
    "inputPwd = driver.find_element_by_name(\"txtPwd\")\n",
    "inputPwd.send_keys('PASSWORD')\n"
   ]
  },
  {
   "cell_type": "code",
   "execution_count": 9,
   "metadata": {},
   "outputs": [],
   "source": [
    "inputPwd.submit()\n"
   ]
  },
  {
   "cell_type": "code",
   "execution_count": 5,
   "metadata": {},
   "outputs": [
    {
     "name": "stdout",
     "output_type": "stream",
     "text": [
      ":P\n",
      ":P\n"
     ]
    }
   ],
   "source": [
    "\n",
    "announces = []\n",
    "\n",
    "# EDIT: total page of announcements\n",
    "tot_page = 1\n",
    "\n",
    "for page in range(0, tot_page):\n",
    "\n",
    "\n",
    "    for course_id in ['03', '04', '05', '06', '07', '08', '09', '10', '11', '12']:\n",
    "\n",
    "        lnkHistory = driver.find_element_by_id(\"ctl00_lnkHistory\")\n",
    "        lnkHistory.click()\n",
    "\n",
    "        time.sleep(1)\n",
    "\n",
    "        for i in range(0, page) :\n",
    "            nextPage = driver.find_element_by_id(\"ctl00_ContentPlaceHolder1_DataNavigator1_ctl03\")\n",
    "            nextPage.click()\n",
    "            time.sleep(1)\n",
    "\n",
    "        try:\n",
    "            course = driver.find_element_by_id(\"ctl00_ContentPlaceHolder1_dg_ctl\"+course_id+\"_lnbEnter\")\n",
    "            course.click()\n",
    "        except NoSuchElementException:\n",
    "            print(\":P\")\n",
    "            continue\n",
    "\n",
    "        time.sleep(2)\n",
    "\n",
    "        announcements = driver.find_element_by_id(\"ctl00_lnkNewest\")\n",
    "        announcements.click()\n",
    "\n",
    "        time.sleep(2)\n",
    "\n",
    "        expire_announcements = driver.find_element_by_id(\"__tab_ctl00_ContentPlaceHolder1_tabAnnouncement_tpExpire\")\n",
    "        expire_announcements.click()\n",
    "\n",
    "        time.sleep(2)\n",
    "\n",
    "        title_list = driver.find_elements_by_class_name(\"bulletin_tfont\")\n",
    "        content_list = driver.find_elements_by_class_name(\"bulletin_lineheight\")\n",
    "\n",
    "        for i in range(len(title_list)):\n",
    "            \n",
    "            announces.append( {'title': title_list[i].text, 'content': \"<br>\".join(content_list[i].text.split(\"\\n\"))} )\n",
    "            \n",
    "\n",
    "            #print( json.dumps( {'title': title_list[i].text, 'content': \"<br />\".join(content_list[i].text.split(\"\\n\"))} ) )\n",
    "            #writer.writerow({'title': title_list[i].text, 'content': content_list[i].text})\n",
    "\n",
    "\n",
    "        lnkHome = driver.find_element_by_id(\"ctl00_btnHome\")\n",
    "        lnkHome.click()\n",
    "\n"
   ]
  },
  {
   "cell_type": "code",
   "execution_count": 6,
   "metadata": {},
   "outputs": [],
   "source": [
    "with open('an.json', 'w', encoding='utf8') as outfile:  \n",
    "    json.dump(announces, outfile, ensure_ascii=False, indent=4)\n"
   ]
  },
  {
   "cell_type": "code",
   "execution_count": null,
   "metadata": {},
   "outputs": [],
   "source": []
  },
  {
   "cell_type": "code",
   "execution_count": null,
   "metadata": {},
   "outputs": [],
   "source": []
  }
 ],
 "metadata": {
  "kernelspec": {
   "display_name": "Python 3",
   "language": "python",
   "name": "python3"
  },
  "language_info": {
   "codemirror_mode": {
    "name": "ipython",
    "version": 3
   },
   "file_extension": ".py",
   "mimetype": "text/x-python",
   "name": "python",
   "nbconvert_exporter": "python",
   "pygments_lexer": "ipython3",
   "version": "3.6.5"
  }
 },
 "nbformat": 4,
 "nbformat_minor": 2
}
